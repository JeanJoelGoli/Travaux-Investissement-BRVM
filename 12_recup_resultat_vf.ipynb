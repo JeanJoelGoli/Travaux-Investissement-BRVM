{
 "cells": [
  {
   "cell_type": "code",
   "execution_count": 1,
   "id": "a10bfb10",
   "metadata": {},
   "outputs": [
    {
     "name": "stdout",
     "output_type": "stream",
     "text": [
      "OK -> donnees_brvm_long.csv\n"
     ]
    }
   ],
   "source": [
    "import pandas as pd\n",
    "import numpy as np\n",
    "import re\n",
    "\n",
    "# --- Config ---\n",
    "INPUT_PATH = \"donnees_brvm_large.xlsx\"   # ou .csv\n",
    "SHEET_NAME = 0                           # si Excel : feuille à lire\n",
    "OUTPUT_PATH = \"donnees_brvm_long.csv\"\n",
    "\n",
    "# Les variables (suffixes) attendues après le ticker\n",
    "MEASURES = [\n",
    "    \"CA_PNB\", \"Total Bilan\", \"RE_RBE\", \"Résultat Net\", \"Capitaux propres\"\n",
    "]\n",
    "\n",
    "# --- 1) Charger ---\n",
    "# Si ton fichier est un CSV, remplace par: df = pd.read_csv(INPUT_PATH)\n",
    "df = pd.read_excel(INPUT_PATH, sheet_name=SHEET_NAME)\n",
    "\n",
    "# On garde ce qui est dispo parmi ces colonnes d'identification\n",
    "id_vars = [c for c in [\"Période_détail\", \"Période\"] if c in df.columns]\n",
    "if not id_vars:\n",
    "    raise ValueError(\"Aucune des colonnes 'Période_détail' ou 'Période' n'a été trouvée.\")\n",
    "\n",
    "# --- 2) Passer en long (melt) puis extraire Ticker et Mesure ---\n",
    "melted = df.melt(id_vars=id_vars, var_name=\"colonne\", value_name=\"valeur\")\n",
    "\n",
    "# Regex: \"tout ce qu'il y a avant le dernier '_' = Ticker\", puis l'un des suffixes cibles\n",
    "pattern = rf\"^(.*?)_({'|'.join(map(re.escape, MEASURES))})$\"\n",
    "extracted = melted[\"colonne\"].str.extract(pattern)\n",
    "\n",
    "melted[\"Ticker\"] = extracted[0]\n",
    "melted[\"Mesure\"] = extracted[1]\n",
    "melted = melted.dropna(subset=[\"Ticker\", \"Mesure\"]).drop(columns=[\"colonne\"])\n",
    "\n",
    "# --- 3) Repasser en large par Mesure (colonnes) ---\n",
    "long_table = (\n",
    "    melted\n",
    "    .pivot_table(index=id_vars + [\"Ticker\"], columns=\"Mesure\", values=\"valeur\", aggfunc=\"first\")\n",
    "    .reset_index()\n",
    ")\n",
    "\n",
    "# Les colonnes peuvent devenir un MultiIndex après pivot ; on les aplati si besoin\n",
    "long_table.columns.name = None\n",
    "\n",
    "# --- 4) Nettoyage des montants -> nombres (en supprimant \"CFA\", espaces, etc.) ---\n",
    "def to_number(x):\n",
    "    if pd.isna(x):\n",
    "        return np.nan\n",
    "    s = str(x)\n",
    "    # Remplacer toutes les virgules par des points (si présent)\n",
    "    s = s.replace(\",\", \".\")\n",
    "    # Supprimer tout sauf chiffres, signe, point et virgule déjà gérée\n",
    "    s = re.sub(r\"[^\\d\\.\\-]\", \"\", s)\n",
    "    return float(s) if s not in (\"\", \".\", \"-\", \"-.\", \".-\") else np.nan\n",
    "\n",
    "for m in MEASURES:\n",
    "    if m in long_table.columns:\n",
    "        long_table[m] = long_table[m].apply(to_number)\n",
    "\n",
    "# --- 5) Mise en forme finale ---\n",
    "# Renommer pour coller exactement à ta demande\n",
    "rename_map = {\n",
    "    \"Période\": \"Période\",\n",
    "    \"Période_détail\": \"Période_détail\",\n",
    "}\n",
    "long_table = long_table.rename(columns=rename_map)\n",
    "\n",
    "# Ordonner les colonnes de sortie\n",
    "cols_out = [c for c in [\"Ticker\", \"Période\", \"Période_détail\"] if c in long_table.columns] + MEASURES\n",
    "# On remet les colonnes présentes seulement (au cas où certaines mesures manquent)\n",
    "cols_out = [c for c in cols_out if c in long_table.columns]\n",
    "long_table = long_table[cols_out]\n",
    "\n",
    "# --- 6) Sauvegarder ---\n",
    "long_table.to_csv(OUTPUT_PATH, index=False, encoding=\"utf-8\")\n",
    "print(f\"OK -> {OUTPUT_PATH}\")\n"
   ]
  }
 ],
 "metadata": {
  "kernelspec": {
   "display_name": "base",
   "language": "python",
   "name": "python3"
  },
  "language_info": {
   "codemirror_mode": {
    "name": "ipython",
    "version": 3
   },
   "file_extension": ".py",
   "mimetype": "text/x-python",
   "name": "python",
   "nbconvert_exporter": "python",
   "pygments_lexer": "ipython3",
   "version": "3.12.2"
  }
 },
 "nbformat": 4,
 "nbformat_minor": 5
}
