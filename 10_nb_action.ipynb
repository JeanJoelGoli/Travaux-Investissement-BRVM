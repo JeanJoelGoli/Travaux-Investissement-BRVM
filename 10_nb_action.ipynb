{
 "cells": [
  {
   "cell_type": "code",
   "execution_count": 1,
   "id": "1cd59e3b",
   "metadata": {},
   "outputs": [
    {
     "name": "stdout",
     "output_type": "stream",
     "text": [
      "✅ Export : richbourse_nb_actions_actuel.csv\n",
      "  Ticker  nb_actions_actuel\n",
      "0   ABJC           10912000\n",
      "1   BICB           57759800\n",
      "2   BICC           16666670\n",
      "3   BNBC            6624000\n",
      "4   BOAB           40561048\n",
      "5  BOABF           44000000\n",
      "6   BOAC           40000000\n",
      "7   BOAM           27450000\n",
      "8   BOAN           20800000\n",
      "9   BOAS           36000000\n"
     ]
    },
    {
     "name": "stderr",
     "output_type": "stream",
     "text": [
      "/var/folders/0n/svq7n_mn2lg1fv5jbk66hzg00000gn/T/ipykernel_2671/3617161852.py:26: FutureWarning: Passing literal html to 'read_html' is deprecated and will be removed in a future version. To read from a literal string, wrap it in a 'StringIO' object.\n",
      "  tables = pd.read_html(html, decimal=\",\", thousands=\" \")\n"
     ]
    }
   ],
   "source": [
    "import re\n",
    "import requests\n",
    "import pandas as pd\n",
    "\n",
    "URL = \"https://www.richbourse.com/common/variation/index/veille/tout\"\n",
    "HEADERS = {\n",
    "    \"User-Agent\": \"Mozilla/5.0 (Windows NT 10.0; Win64; x64) AppleWebKit/537.36 (KHTML, like Gecko) Chrome/124.0 Safari/537.36\",\n",
    "    \"Accept-Language\": \"fr-FR,fr;q=0.9,en;q=0.8\",\n",
    "}\n",
    "\n",
    "def _to_number(x: str | float | int | None):\n",
    "    if x is None or (isinstance(x, float) and pd.isna(x)):\n",
    "        return None\n",
    "    s = str(x).replace(\"\\xa0\", \"\").replace(\" \", \"\").replace(\",\", \".\")\n",
    "    s = re.sub(r\"[^0-9.]\", \"\", s)\n",
    "    if s in (\"\", \".\"):\n",
    "        return None\n",
    "    return float(s)\n",
    "\n",
    "# 1) Récupérer la page avec un User-Agent\n",
    "resp = requests.get(URL, headers=HEADERS, timeout=20)\n",
    "resp.raise_for_status()\n",
    "html = resp.text\n",
    "\n",
    "# 2) Lire le tableau\n",
    "tables = pd.read_html(html, decimal=\",\", thousands=\" \")\n",
    "if not tables:\n",
    "    raise RuntimeError(\"Aucun tableau trouvé.\")\n",
    "\n",
    "df = tables[0].copy()\n",
    "\n",
    "# 3) Repérer les colonnes (tolérant aux variations d'intitulés)\n",
    "norm = {c.lower().strip(): c for c in df.columns}\n",
    "def col_like(options):\n",
    "    for k, orig in norm.items():\n",
    "        for opt in options:\n",
    "            if opt in k:\n",
    "                return orig\n",
    "    raise KeyError(f\"Colonne introuvable: {options}\")\n",
    "\n",
    "col_symbole = col_like([\"symbole\"])\n",
    "col_cours   = col_like([\"cours actuel\", \"coursactuel\"])\n",
    "col_capi    = col_like([\"capitalisation\"])\n",
    "\n",
    "# 4) Sélection / nettoyage\n",
    "work = df[[col_symbole, col_cours, col_capi]].rename(\n",
    "    columns={col_symbole: \"Ticker\", col_cours: \"Cours\", col_capi: \"Capitalisation\"}\n",
    ")\n",
    "\n",
    "work[\"Cours\"] = work[\"Cours\"].map(_to_number)\n",
    "work[\"Capitalisation\"] = work[\"Capitalisation\"].map(_to_number)\n",
    "\n",
    "# 5) Calcul nb_actions_actuel = capitalisation / cours\n",
    "work[\"nb_actions_actuel\"] = (work[\"Capitalisation\"] / work[\"Cours\"]).round().astype(\"Int64\")\n",
    "\n",
    "out = work[[\"Ticker\", \"nb_actions_actuel\"]].dropna()\n",
    "out[\"Ticker\"] = out[\"Ticker\"].astype(str).str.strip()\n",
    "\n",
    "# 6) Export\n",
    "out.to_csv(\"richbourse_nb_actions_actuel.csv\", index=False, encoding=\"utf-8\")\n",
    "print(\"✅ Export : richbourse_nb_actions_actuel.csv\")\n",
    "print(out.head(10))\n"
   ]
  }
 ],
 "metadata": {
  "kernelspec": {
   "display_name": "base",
   "language": "python",
   "name": "python3"
  },
  "language_info": {
   "codemirror_mode": {
    "name": "ipython",
    "version": 3
   },
   "file_extension": ".py",
   "mimetype": "text/x-python",
   "name": "python",
   "nbconvert_exporter": "python",
   "pygments_lexer": "ipython3",
   "version": "3.12.2"
  }
 },
 "nbformat": 4,
 "nbformat_minor": 5
}
