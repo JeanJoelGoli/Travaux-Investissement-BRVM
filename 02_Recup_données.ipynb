{
 "cells": [
  {
   "cell_type": "code",
   "execution_count": 1,
   "id": "aa5bd8bc",
   "metadata": {},
   "outputs": [
    {
     "name": "stderr",
     "output_type": "stream",
     "text": [
      "Registered S3 method overwritten by 'quantmod':\n",
      "  method            from\n",
      "  as.zoo.data.frame zoo \n",
      "\n",
      "== Welcome to BRVM ================================================================\n",
      "If you find this package useful, please leave a star: \n",
      "   https://github.com/Koffi-Fredysessie/BRVM\n",
      "\n",
      "If you encounter a bug or want to request an enhancement please file an issue at:\n",
      "   https://github.com/Koffi-Fredysessie/BRVM/issues\n",
      "\n",
      "Thank you for using BRVM!\n",
      "\n",
      "\n",
      "Attaching package: ‘arrow’\n",
      "\n",
      "The following object is masked from ‘package:utils’:\n",
      "\n",
      "    timestamp\n",
      "\n",
      "\n",
      "Attaching package: ‘dplyr’\n",
      "\n",
      "The following objects are masked from ‘package:stats’:\n",
      "\n",
      "    filter, lag\n",
      "\n",
      "The following objects are masked from ‘package:base’:\n",
      "\n",
      "    intersect, setdiff, setequal, union\n",
      "\n",
      "\n",
      "Attaching package: ‘readr’\n",
      "\n",
      "The following object is masked from ‘package:scales’:\n",
      "\n",
      "    col_factor\n",
      "\n",
      "ABJC, BICC, BNBC, BOAB, BOABF, BOAC, BOAM, BOAN, BOAS, CABC, CBIBF, CFAC, CIEC, ECOC, ETIT, FTSC, NEIC, NSBC, NTLC, ONTBF, ORAC, ORGT, PALC, PRSC, SAFC, SCRC, SDCC, SDSC, SEMC, SGBC, SHEC, SIBC, SICC, SIVC, SLBC, SMBC, SNTS, SOGC, SPHC, STAC, STBC, TTLC, TTLS, UNLC, UNXC\n",
      "BRVM10 data aren't available between 1998-01-01 and 2025-09-27\n",
      "We obtained BRVMAG data from 2005-09-29 to 2025-09-26\n",
      "We obtained BRVMC data from 2005-09-29 to 2025-09-26\n",
      "We obtained BRVMAS data from 2005-09-29 to 2025-09-26\n",
      "We obtained BRVMDI data from 2005-09-29 to 2025-09-26\n",
      "We obtained BRVMFI data from 2005-09-29 to 2025-09-26\n",
      "We obtained BRVMIN data from 2005-09-29 to 2025-09-26\n",
      "We obtained BRVMSP data from 2005-09-29 to 2025-01-31\n",
      "We obtained BRVMTR data from 2005-09-29 to 2025-09-26\n",
      "We obtained BRVMPR data from 2023-01-01 to 2025-09-26\n",
      "We obtained BRVMPA data from 2023-01-04 to 2025-09-26\n",
      "We obtained BRVM30 data from 2023-01-01 to 2025-09-26\n",
      "We obtained CAPIB data from 2020-01-02 to 2025-09-26\n"
     ]
    }
   ],
   "source": [
    "import subprocess, pandas as pd\n",
    "from pathlib import Path\n",
    "\n",
    "# 1) Exécuter le script R (depuis le dossier contenant data_BRVM.R)\n",
    "res = subprocess.run([\"Rscript\", \"50_data_BRVM.R\"])\n"
   ]
  }
 ],
 "metadata": {
  "kernelspec": {
   "display_name": "base",
   "language": "python",
   "name": "python3"
  },
  "language_info": {
   "codemirror_mode": {
    "name": "ipython",
    "version": 3
   },
   "file_extension": ".py",
   "mimetype": "text/x-python",
   "name": "python",
   "nbconvert_exporter": "python",
   "pygments_lexer": "ipython3",
   "version": "3.12.2"
  }
 },
 "nbformat": 4,
 "nbformat_minor": 5
}
